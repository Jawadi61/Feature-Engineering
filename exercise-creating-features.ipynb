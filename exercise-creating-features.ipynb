{
 "cells": [
  {
   "cell_type": "markdown",
   "id": "ba8d3cc4",
   "metadata": {
    "papermill": {
     "duration": 0.007058,
     "end_time": "2022-10-19T14:43:55.036920",
     "exception": false,
     "start_time": "2022-10-19T14:43:55.029862",
     "status": "completed"
    },
    "tags": []
   },
   "source": [
    "**This notebook is an exercise in the [Feature Engineering](https://www.kaggle.com/learn/feature-engineering) course.  You can reference the tutorial at [this link](https://www.kaggle.com/ryanholbrook/creating-features).**\n",
    "\n",
    "---\n"
   ]
  },
  {
   "cell_type": "markdown",
   "id": "c4b1a25c",
   "metadata": {
    "papermill": {
     "duration": 0.005646,
     "end_time": "2022-10-19T14:43:55.048803",
     "exception": false,
     "start_time": "2022-10-19T14:43:55.043157",
     "status": "completed"
    },
    "tags": []
   },
   "source": [
    "# Introduction #\n",
    "\n",
    "In this exercise you'll start developing the features you identified in Exercise 2 as having the most potential. As you work through this exercise, you might take a moment to look at the data documentation again and consider whether the features we're creating make sense from a real-world perspective, and whether there are any useful combinations that stand out to you.\n",
    "\n",
    "Run this cell to set everything up!"
   ]
  },
  {
   "cell_type": "code",
   "execution_count": 1,
   "id": "2ac2d93c",
   "metadata": {
    "execution": {
     "iopub.execute_input": "2022-10-19T14:43:55.063546Z",
     "iopub.status.busy": "2022-10-19T14:43:55.062727Z",
     "iopub.status.idle": "2022-10-19T14:43:56.598625Z",
     "shell.execute_reply": "2022-10-19T14:43:56.597476Z"
    },
    "papermill": {
     "duration": 1.54675,
     "end_time": "2022-10-19T14:43:56.601780",
     "exception": false,
     "start_time": "2022-10-19T14:43:55.055030",
     "status": "completed"
    },
    "tags": []
   },
   "outputs": [],
   "source": [
    "# Setup feedback system\n",
    "from learntools.core import binder\n",
    "binder.bind(globals())\n",
    "from learntools.feature_engineering_new.ex3 import *\n",
    "\n",
    "import numpy as np\n",
    "import pandas as pd\n",
    "from sklearn.model_selection import cross_val_score\n",
    "from xgboost import XGBRegressor\n",
    "\n",
    "\n",
    "def score_dataset(X, y, model=XGBRegressor()):\n",
    "    # Label encoding for categoricals\n",
    "    for colname in X.select_dtypes([\"category\", \"object\"]):\n",
    "        X[colname], _ = X[colname].factorize()\n",
    "    # Metric for Housing competition is RMSLE (Root Mean Squared Log Error)\n",
    "    score = cross_val_score(\n",
    "        model, X, y, cv=5, scoring=\"neg_mean_squared_log_error\",\n",
    "    )\n",
    "    score = -1 * score.mean()\n",
    "    score = np.sqrt(score)\n",
    "    return score\n",
    "\n",
    "\n",
    "# Prepare data\n",
    "df = pd.read_csv(\"../input/fe-course-data/ames.csv\")\n",
    "X = df.copy()\n",
    "y = X.pop(\"SalePrice\")"
   ]
  },
  {
   "cell_type": "markdown",
   "id": "b6b668e2",
   "metadata": {
    "papermill": {
     "duration": 0.005478,
     "end_time": "2022-10-19T14:43:56.613225",
     "exception": false,
     "start_time": "2022-10-19T14:43:56.607747",
     "status": "completed"
    },
    "tags": []
   },
   "source": [
    "-------------------------------------------------------------------------------\n",
    "\n",
    "Let's start with a few mathematical combinations. We'll focus on features describing areas -- having the same units (square-feet) makes it easy to combine them in sensible ways. Since we're using XGBoost (a tree-based model), we'll focus on ratios and sums.\n",
    "\n",
    "# 1) Create Mathematical Transforms\n",
    "\n",
    "Create the following features:\n",
    "\n",
    "- `LivLotRatio`: the ratio of `GrLivArea` to `LotArea`\n",
    "- `Spaciousness`: the sum of `FirstFlrSF` and `SecondFlrSF` divided by `TotRmsAbvGrd`\n",
    "- `TotalOutsideSF`: the sum of `WoodDeckSF`, `OpenPorchSF`, `EnclosedPorch`, `Threeseasonporch`, and `ScreenPorch`"
   ]
  },
  {
   "cell_type": "code",
   "execution_count": 2,
   "id": "3367238a",
   "metadata": {
    "execution": {
     "iopub.execute_input": "2022-10-19T14:43:56.626576Z",
     "iopub.status.busy": "2022-10-19T14:43:56.626170Z",
     "iopub.status.idle": "2022-10-19T14:43:56.654803Z",
     "shell.execute_reply": "2022-10-19T14:43:56.653631Z"
    },
    "lines_to_next_cell": 0,
    "papermill": {
     "duration": 0.038566,
     "end_time": "2022-10-19T14:43:56.657496",
     "exception": false,
     "start_time": "2022-10-19T14:43:56.618930",
     "status": "completed"
    },
    "tags": []
   },
   "outputs": [
    {
     "data": {
      "application/javascript": [
       "parent.postMessage({\"jupyterEvent\": \"custom.exercise_interaction\", \"data\": {\"outcomeType\": 1, \"valueTowardsCompletion\": 0.2, \"interactionType\": 1, \"questionType\": 2, \"questionId\": \"1_Q1\", \"learnToolsVersion\": \"0.3.4\", \"failureMessage\": \"\", \"exceptionClass\": \"\", \"trace\": \"\"}}, \"*\")"
      ],
      "text/plain": [
       "<IPython.core.display.Javascript object>"
      ]
     },
     "metadata": {},
     "output_type": "display_data"
    },
    {
     "data": {
      "text/markdown": [
       "<span style=\"color:#33cc33\">Correct</span>"
      ],
      "text/plain": [
       "Correct"
      ]
     },
     "metadata": {},
     "output_type": "display_data"
    }
   ],
   "source": [
    "# YOUR CODE HERE\n",
    "X_1 = pd.DataFrame()  # dataframe to hold new features\n",
    "\n",
    "X_1[\"LivLotRatio\"] = df.GrLivArea / df.LotArea\n",
    "X_1[\"Spaciousness\"] = (df.FirstFlrSF + df.SecondFlrSF) / df.TotRmsAbvGrd\n",
    "X_1[\"TotalOutsideSF\"] = df.WoodDeckSF + df.OpenPorchSF + df.EnclosedPorch + df.Threeseasonporch + df.ScreenPorch\n",
    "\n",
    "\n",
    "# Check your answer\n",
    "q_1.check()"
   ]
  },
  {
   "cell_type": "code",
   "execution_count": 3,
   "id": "e74d433f",
   "metadata": {
    "execution": {
     "iopub.execute_input": "2022-10-19T14:43:56.671899Z",
     "iopub.status.busy": "2022-10-19T14:43:56.671416Z",
     "iopub.status.idle": "2022-10-19T14:43:56.676318Z",
     "shell.execute_reply": "2022-10-19T14:43:56.675114Z"
    },
    "lines_to_next_cell": 0,
    "papermill": {
     "duration": 0.014816,
     "end_time": "2022-10-19T14:43:56.678686",
     "exception": false,
     "start_time": "2022-10-19T14:43:56.663870",
     "status": "completed"
    },
    "tags": []
   },
   "outputs": [],
   "source": [
    "# Lines below will give you a hint or solution code\n",
    "#q_1.hint()\n",
    "#q_1.solution()"
   ]
  },
  {
   "cell_type": "markdown",
   "id": "c5531072",
   "metadata": {
    "papermill": {
     "duration": 0.006097,
     "end_time": "2022-10-19T14:43:56.690912",
     "exception": false,
     "start_time": "2022-10-19T14:43:56.684815",
     "status": "completed"
    },
    "tags": []
   },
   "source": [
    "-------------------------------------------------------------------------------\n",
    "\n",
    "If you've discovered an interaction effect between a numeric feature and a categorical feature, you might want to model it explicitly using a one-hot encoding, like so:\n",
    "\n",
    "```\n",
    "# One-hot encode Categorical feature, adding a column prefix \"Cat\"\n",
    "X_new = pd.get_dummies(df.Categorical, prefix=\"Cat\")\n",
    "\n",
    "# Multiply row-by-row\n",
    "X_new = X_new.mul(df.Continuous, axis=0)\n",
    "\n",
    "# Join the new features to the feature set\n",
    "X = X.join(X_new)\n",
    "```\n",
    "\n",
    "# 2) Interaction with a Categorical\n",
    "\n",
    "We discovered an interaction between `BldgType` and `GrLivArea` in Exercise 2. Now create their interaction features."
   ]
  },
  {
   "cell_type": "code",
   "execution_count": 4,
   "id": "8b710fd4",
   "metadata": {
    "execution": {
     "iopub.execute_input": "2022-10-19T14:43:56.705159Z",
     "iopub.status.busy": "2022-10-19T14:43:56.704752Z",
     "iopub.status.idle": "2022-10-19T14:43:56.720958Z",
     "shell.execute_reply": "2022-10-19T14:43:56.719990Z"
    },
    "lines_to_next_cell": 0,
    "papermill": {
     "duration": 0.02626,
     "end_time": "2022-10-19T14:43:56.723392",
     "exception": false,
     "start_time": "2022-10-19T14:43:56.697132",
     "status": "completed"
    },
    "tags": []
   },
   "outputs": [
    {
     "data": {
      "application/javascript": [
       "parent.postMessage({\"jupyterEvent\": \"custom.exercise_interaction\", \"data\": {\"outcomeType\": 1, \"valueTowardsCompletion\": 0.2, \"interactionType\": 1, \"questionType\": 2, \"questionId\": \"2_Q2\", \"learnToolsVersion\": \"0.3.4\", \"failureMessage\": \"\", \"exceptionClass\": \"\", \"trace\": \"\"}}, \"*\")"
      ],
      "text/plain": [
       "<IPython.core.display.Javascript object>"
      ]
     },
     "metadata": {},
     "output_type": "display_data"
    },
    {
     "data": {
      "text/markdown": [
       "<span style=\"color:#33cc33\">Correct</span>"
      ],
      "text/plain": [
       "Correct"
      ]
     },
     "metadata": {},
     "output_type": "display_data"
    }
   ],
   "source": [
    "# YOUR CODE HERE\n",
    "# One-hot encode BldgType. Use `prefix=\"Bldg\"` in `get_dummies`\n",
    "X_2 = pd.get_dummies(df.BldgType, prefix=\"Bldg\")\n",
    "# Multiply\n",
    "X_2 = X_2.mul(df.GrLivArea, axis=0)\n",
    "\n",
    "\n",
    "# Check your answer\n",
    "q_2.check()"
   ]
  },
  {
   "cell_type": "code",
   "execution_count": 5,
   "id": "bfa2618c",
   "metadata": {
    "execution": {
     "iopub.execute_input": "2022-10-19T14:43:56.738257Z",
     "iopub.status.busy": "2022-10-19T14:43:56.737826Z",
     "iopub.status.idle": "2022-10-19T14:43:56.741801Z",
     "shell.execute_reply": "2022-10-19T14:43:56.740927Z"
    },
    "lines_to_next_cell": 0,
    "papermill": {
     "duration": 0.014614,
     "end_time": "2022-10-19T14:43:56.744248",
     "exception": false,
     "start_time": "2022-10-19T14:43:56.729634",
     "status": "completed"
    },
    "tags": []
   },
   "outputs": [],
   "source": [
    "# Lines below will give you a hint or solution code\n",
    "#q_2.hint()\n",
    "#q_2.solution()"
   ]
  },
  {
   "cell_type": "markdown",
   "id": "321cab19",
   "metadata": {
    "lines_to_next_cell": 0,
    "papermill": {
     "duration": 0.006177,
     "end_time": "2022-10-19T14:43:56.756686",
     "exception": false,
     "start_time": "2022-10-19T14:43:56.750509",
     "status": "completed"
    },
    "tags": []
   },
   "source": [
    "# 3) Count Feature\n",
    "\n",
    "Let's try creating a feature that describes how many kinds of outdoor areas a dwelling has. Create a feature `PorchTypes` that counts how many of the following are greater than 0.0:\n",
    "\n",
    "```\n",
    "WoodDeckSF\n",
    "OpenPorchSF\n",
    "EnclosedPorch\n",
    "Threeseasonporch\n",
    "ScreenPorch\n",
    "```"
   ]
  },
  {
   "cell_type": "code",
   "execution_count": 6,
   "id": "4f83826e",
   "metadata": {
    "execution": {
     "iopub.execute_input": "2022-10-19T14:43:56.770816Z",
     "iopub.status.busy": "2022-10-19T14:43:56.770127Z",
     "iopub.status.idle": "2022-10-19T14:43:56.787986Z",
     "shell.execute_reply": "2022-10-19T14:43:56.786837Z"
    },
    "lines_to_next_cell": 0,
    "papermill": {
     "duration": 0.027587,
     "end_time": "2022-10-19T14:43:56.790362",
     "exception": false,
     "start_time": "2022-10-19T14:43:56.762775",
     "status": "completed"
    },
    "tags": []
   },
   "outputs": [
    {
     "data": {
      "application/javascript": [
       "parent.postMessage({\"jupyterEvent\": \"custom.exercise_interaction\", \"data\": {\"outcomeType\": 1, \"valueTowardsCompletion\": 0.2, \"interactionType\": 1, \"questionType\": 2, \"questionId\": \"3_Q3\", \"learnToolsVersion\": \"0.3.4\", \"failureMessage\": \"\", \"exceptionClass\": \"\", \"trace\": \"\"}}, \"*\")"
      ],
      "text/plain": [
       "<IPython.core.display.Javascript object>"
      ]
     },
     "metadata": {},
     "output_type": "display_data"
    },
    {
     "data": {
      "text/markdown": [
       "<span style=\"color:#33cc33\">Correct</span>"
      ],
      "text/plain": [
       "Correct"
      ]
     },
     "metadata": {},
     "output_type": "display_data"
    }
   ],
   "source": [
    "X_3 = pd.DataFrame()\n",
    "\n",
    "# YOUR CODE HERE\n",
    "X_3[\"PorchTypes\"] = df[[\n",
    "    \"WoodDeckSF\",\n",
    "    \"OpenPorchSF\",\n",
    "    \"EnclosedPorch\",\n",
    "    \"Threeseasonporch\",\n",
    "    \"ScreenPorch\",\n",
    "]].gt(0.0).sum(axis=1)\n",
    "\n",
    "\n",
    "# Check your answer\n",
    "q_3.check()"
   ]
  },
  {
   "cell_type": "code",
   "execution_count": 7,
   "id": "d6475fc9",
   "metadata": {
    "execution": {
     "iopub.execute_input": "2022-10-19T14:43:56.806589Z",
     "iopub.status.busy": "2022-10-19T14:43:56.805730Z",
     "iopub.status.idle": "2022-10-19T14:43:56.811032Z",
     "shell.execute_reply": "2022-10-19T14:43:56.809791Z"
    },
    "lines_to_next_cell": 0,
    "papermill": {
     "duration": 0.016423,
     "end_time": "2022-10-19T14:43:56.813431",
     "exception": false,
     "start_time": "2022-10-19T14:43:56.797008",
     "status": "completed"
    },
    "tags": []
   },
   "outputs": [],
   "source": [
    "# Lines below will give you a hint or solution code\n",
    "#q_3.hint()\n",
    "#q_3.solution()"
   ]
  },
  {
   "cell_type": "markdown",
   "id": "cb01efc6",
   "metadata": {
    "papermill": {
     "duration": 0.005997,
     "end_time": "2022-10-19T14:43:56.825873",
     "exception": false,
     "start_time": "2022-10-19T14:43:56.819876",
     "status": "completed"
    },
    "tags": []
   },
   "source": [
    "# 4) Break Down a Categorical Feature\n",
    "\n",
    "`MSSubClass` describes the type of a dwelling:"
   ]
  },
  {
   "cell_type": "code",
   "execution_count": 8,
   "id": "6553936b",
   "metadata": {
    "execution": {
     "iopub.execute_input": "2022-10-19T14:43:56.841080Z",
     "iopub.status.busy": "2022-10-19T14:43:56.840221Z",
     "iopub.status.idle": "2022-10-19T14:43:56.849403Z",
     "shell.execute_reply": "2022-10-19T14:43:56.848000Z"
    },
    "papermill": {
     "duration": 0.019533,
     "end_time": "2022-10-19T14:43:56.851723",
     "exception": false,
     "start_time": "2022-10-19T14:43:56.832190",
     "status": "completed"
    },
    "tags": []
   },
   "outputs": [
    {
     "data": {
      "text/plain": [
       "array(['One_Story_1946_and_Newer_All_Styles', 'Two_Story_1946_and_Newer',\n",
       "       'One_Story_PUD_1946_and_Newer',\n",
       "       'One_and_Half_Story_Finished_All_Ages', 'Split_Foyer',\n",
       "       'Two_Story_PUD_1946_and_Newer', 'Split_or_Multilevel',\n",
       "       'One_Story_1945_and_Older', 'Duplex_All_Styles_and_Ages',\n",
       "       'Two_Family_conversion_All_Styles_and_Ages',\n",
       "       'One_and_Half_Story_Unfinished_All_Ages',\n",
       "       'Two_Story_1945_and_Older', 'Two_and_Half_Story_All_Ages',\n",
       "       'One_Story_with_Finished_Attic_All_Ages',\n",
       "       'PUD_Multilevel_Split_Level_Foyer',\n",
       "       'One_and_Half_Story_PUD_All_Ages'], dtype=object)"
      ]
     },
     "execution_count": 8,
     "metadata": {},
     "output_type": "execute_result"
    }
   ],
   "source": [
    "df.MSSubClass.unique()"
   ]
  },
  {
   "cell_type": "markdown",
   "id": "f4e19416",
   "metadata": {
    "papermill": {
     "duration": 0.006172,
     "end_time": "2022-10-19T14:43:56.864669",
     "exception": false,
     "start_time": "2022-10-19T14:43:56.858497",
     "status": "completed"
    },
    "tags": []
   },
   "source": [
    "You can see that there is a more general categorization described (roughly) by the first word of each category. Create a feature containing only these first words by splitting `MSSubClass` at the first underscore `_`. (Hint: In the `split` method use an argument `n=1`.)"
   ]
  },
  {
   "cell_type": "code",
   "execution_count": 9,
   "id": "4edb54dd",
   "metadata": {
    "execution": {
     "iopub.execute_input": "2022-10-19T14:43:56.879829Z",
     "iopub.status.busy": "2022-10-19T14:43:56.878986Z",
     "iopub.status.idle": "2022-10-19T14:43:56.905318Z",
     "shell.execute_reply": "2022-10-19T14:43:56.904076Z"
    },
    "lines_to_next_cell": 0,
    "papermill": {
     "duration": 0.036461,
     "end_time": "2022-10-19T14:43:56.907615",
     "exception": false,
     "start_time": "2022-10-19T14:43:56.871154",
     "status": "completed"
    },
    "tags": []
   },
   "outputs": [
    {
     "data": {
      "application/javascript": [
       "parent.postMessage({\"jupyterEvent\": \"custom.exercise_interaction\", \"data\": {\"outcomeType\": 1, \"valueTowardsCompletion\": 0.2, \"interactionType\": 1, \"questionType\": 2, \"questionId\": \"4_Q4\", \"learnToolsVersion\": \"0.3.4\", \"failureMessage\": \"\", \"exceptionClass\": \"\", \"trace\": \"\"}}, \"*\")"
      ],
      "text/plain": [
       "<IPython.core.display.Javascript object>"
      ]
     },
     "metadata": {},
     "output_type": "display_data"
    },
    {
     "data": {
      "text/markdown": [
       "<span style=\"color:#33cc33\">Correct</span>"
      ],
      "text/plain": [
       "Correct"
      ]
     },
     "metadata": {},
     "output_type": "display_data"
    }
   ],
   "source": [
    "X_4 = pd.DataFrame()\n",
    "\n",
    "# YOUR CODE HERE\n",
    "X_4[\"MSClass\"] = df.MSSubClass.str.split(\"_\", n=1, expand=True)[0]\n",
    "\n",
    "\n",
    "# Check your answer\n",
    "q_4.check()"
   ]
  },
  {
   "cell_type": "code",
   "execution_count": 10,
   "id": "f53673f8",
   "metadata": {
    "execution": {
     "iopub.execute_input": "2022-10-19T14:43:56.923323Z",
     "iopub.status.busy": "2022-10-19T14:43:56.922327Z",
     "iopub.status.idle": "2022-10-19T14:43:56.927241Z",
     "shell.execute_reply": "2022-10-19T14:43:56.926461Z"
    },
    "lines_to_next_cell": 0,
    "papermill": {
     "duration": 0.015091,
     "end_time": "2022-10-19T14:43:56.929348",
     "exception": false,
     "start_time": "2022-10-19T14:43:56.914257",
     "status": "completed"
    },
    "tags": []
   },
   "outputs": [],
   "source": [
    "# Lines below will give you a hint or solution code\n",
    "#q_4.hint()\n",
    "#q_4.solution()"
   ]
  },
  {
   "cell_type": "markdown",
   "id": "f5f3415c",
   "metadata": {
    "papermill": {
     "duration": 0.006344,
     "end_time": "2022-10-19T14:43:56.942299",
     "exception": false,
     "start_time": "2022-10-19T14:43:56.935955",
     "status": "completed"
    },
    "tags": []
   },
   "source": [
    "# 5) Use a Grouped Transform\n",
    "\n",
    "The value of a home often depends on how it compares to typical homes in its neighborhood. Create a feature `MedNhbdArea` that describes the *median* of `GrLivArea` grouped on `Neighborhood`."
   ]
  },
  {
   "cell_type": "code",
   "execution_count": 11,
   "id": "c6a66510",
   "metadata": {
    "execution": {
     "iopub.execute_input": "2022-10-19T14:43:56.957724Z",
     "iopub.status.busy": "2022-10-19T14:43:56.956899Z",
     "iopub.status.idle": "2022-10-19T14:43:56.978166Z",
     "shell.execute_reply": "2022-10-19T14:43:56.977196Z"
    },
    "lines_to_next_cell": 0,
    "papermill": {
     "duration": 0.031513,
     "end_time": "2022-10-19T14:43:56.980480",
     "exception": false,
     "start_time": "2022-10-19T14:43:56.948967",
     "status": "completed"
    },
    "tags": []
   },
   "outputs": [
    {
     "data": {
      "application/javascript": [
       "parent.postMessage({\"jupyterEvent\": \"custom.exercise_interaction\", \"data\": {\"outcomeType\": 1, \"valueTowardsCompletion\": 0.2, \"interactionType\": 1, \"questionType\": 2, \"questionId\": \"5_Q5\", \"learnToolsVersion\": \"0.3.4\", \"failureMessage\": \"\", \"exceptionClass\": \"\", \"trace\": \"\"}}, \"*\")"
      ],
      "text/plain": [
       "<IPython.core.display.Javascript object>"
      ]
     },
     "metadata": {},
     "output_type": "display_data"
    },
    {
     "data": {
      "text/markdown": [
       "<span style=\"color:#33cc33\">Correct</span>"
      ],
      "text/plain": [
       "Correct"
      ]
     },
     "metadata": {},
     "output_type": "display_data"
    }
   ],
   "source": [
    "X_5 = pd.DataFrame()\n",
    "\n",
    "# YOUR CODE HERE\n",
    "X_5[\"MedNhbdArea\"] = df.groupby(\"Neighborhood\")[\"GrLivArea\"].transform(\"median\")\n",
    "\n",
    "# Check your answer\n",
    "q_5.check()"
   ]
  },
  {
   "cell_type": "code",
   "execution_count": 12,
   "id": "c6c88411",
   "metadata": {
    "execution": {
     "iopub.execute_input": "2022-10-19T14:43:56.997063Z",
     "iopub.status.busy": "2022-10-19T14:43:56.995671Z",
     "iopub.status.idle": "2022-10-19T14:43:57.001240Z",
     "shell.execute_reply": "2022-10-19T14:43:57.000276Z"
    },
    "lines_to_next_cell": 0,
    "papermill": {
     "duration": 0.016155,
     "end_time": "2022-10-19T14:43:57.003564",
     "exception": false,
     "start_time": "2022-10-19T14:43:56.987409",
     "status": "completed"
    },
    "tags": []
   },
   "outputs": [],
   "source": [
    "# Lines below will give you a hint or solution code\n",
    "#q_5.hint()\n",
    "#q_5.solution()"
   ]
  },
  {
   "cell_type": "markdown",
   "id": "1d39166e",
   "metadata": {
    "papermill": {
     "duration": 0.00685,
     "end_time": "2022-10-19T14:43:57.017372",
     "exception": false,
     "start_time": "2022-10-19T14:43:57.010522",
     "status": "completed"
    },
    "tags": []
   },
   "source": [
    "Now you've made your first new feature set! If you like, you can run the cell below to score the model with all of your new features added:"
   ]
  },
  {
   "cell_type": "code",
   "execution_count": 13,
   "id": "bc33f19f",
   "metadata": {
    "execution": {
     "iopub.execute_input": "2022-10-19T14:43:57.034091Z",
     "iopub.status.busy": "2022-10-19T14:43:57.032851Z",
     "iopub.status.idle": "2022-10-19T14:44:02.000142Z",
     "shell.execute_reply": "2022-10-19T14:44:01.999090Z"
    },
    "papermill": {
     "duration": 4.978399,
     "end_time": "2022-10-19T14:44:02.002951",
     "exception": false,
     "start_time": "2022-10-19T14:43:57.024552",
     "status": "completed"
    },
    "tags": []
   },
   "outputs": [
    {
     "data": {
      "text/plain": [
       "0.13847331710099203"
      ]
     },
     "execution_count": 13,
     "metadata": {},
     "output_type": "execute_result"
    }
   ],
   "source": [
    "X_new = X.join([X_1, X_2, X_3, X_4, X_5])\n",
    "score_dataset(X_new, y)"
   ]
  },
  {
   "cell_type": "markdown",
   "id": "84e83515",
   "metadata": {
    "papermill": {
     "duration": 0.006876,
     "end_time": "2022-10-19T14:44:02.018045",
     "exception": false,
     "start_time": "2022-10-19T14:44:02.011169",
     "status": "completed"
    },
    "tags": []
   },
   "source": [
    "# Keep Going #\n",
    "\n",
    "[**Untangle spatial relationships**](https://www.kaggle.com/ryanholbrook/clustering-with-k-means) by adding cluster labels to your dataset."
   ]
  },
  {
   "cell_type": "markdown",
   "id": "ca278cf0",
   "metadata": {
    "papermill": {
     "duration": 0.006621,
     "end_time": "2022-10-19T14:44:02.031711",
     "exception": false,
     "start_time": "2022-10-19T14:44:02.025090",
     "status": "completed"
    },
    "tags": []
   },
   "source": [
    "---\n",
    "\n",
    "\n",
    "\n",
    "\n",
    "*Have questions or comments? Visit the [course discussion forum](https://www.kaggle.com/learn/feature-engineering/discussion) to chat with other learners.*"
   ]
  }
 ],
 "metadata": {
  "kernelspec": {
   "display_name": "Python 3",
   "language": "python",
   "name": "python3"
  },
  "language_info": {
   "codemirror_mode": {
    "name": "ipython",
    "version": 3
   },
   "file_extension": ".py",
   "mimetype": "text/x-python",
   "name": "python",
   "nbconvert_exporter": "python",
   "pygments_lexer": "ipython3",
   "version": "3.7.12"
  },
  "papermill": {
   "default_parameters": {},
   "duration": 17.273089,
   "end_time": "2022-10-19T14:44:02.862939",
   "environment_variables": {},
   "exception": null,
   "input_path": "__notebook__.ipynb",
   "output_path": "__notebook__.ipynb",
   "parameters": {},
   "start_time": "2022-10-19T14:43:45.589850",
   "version": "2.3.4"
  }
 },
 "nbformat": 4,
 "nbformat_minor": 5
}
